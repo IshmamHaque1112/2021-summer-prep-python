{
 "cells": [
  {
   "cell_type": "markdown",
   "metadata": {},
   "source": [
    "# Problem 1: Write a function thats input is a number and output is:\n",
    "* Return True if the input number is even.\n",
    "* Return False if the input number is odd."
   ]
  },
  {
   "cell_type": "code",
   "execution_count": 3,
   "metadata": {},
   "outputs": [
    {
     "name": "stdout",
     "output_type": "stream",
     "text": [
      "\n",
      " This is even. \n",
      "\n",
      "\n",
      " This is odd. \n",
      "\n",
      "\n",
      " This is even. \n",
      "\n",
      "\n",
      " This is odd. \n",
      "\n"
     ]
    }
   ],
   "source": [
    "import math\n",
    "def evenorodd(cookie):\n",
    " if cookie%2==0:\n",
    "  print(\"\\n This is even. \\n\")\n",
    " else:\n",
    "  print(\"\\n This is odd. \\n\")\n",
    "evenorodd(24)\n",
    "evenorodd(123)\n",
    "evenorodd(3434)\n",
    "evenorodd(23567769)\n"
   ]
  },
  {
   "cell_type": "markdown",
   "metadata": {},
   "source": [
    "# Problem 2: Find the sum and the average of this list of numbers.\n",
    "\n",
    "Try doing this using a loop.  Then try doing this without using a loop. "
   ]
  },
  {
   "cell_type": "code",
   "execution_count": 8,
   "metadata": {},
   "outputs": [
    {
     "name": "stdout",
     "output_type": "stream",
     "text": [
      "353 35.3\n"
     ]
    }
   ],
   "source": [
    "# Solve problem 2 here:\n",
    "\n",
    "my_list = [1, 5, 10, 55, 88, 44, 42, 50, 20, 38]\n",
    "list_sum = 0\n",
    "list_avg = 0\n",
    "sum=0\n",
    "average=0\n",
    "for x in my_list:\n",
    " sum=sum+x\n",
    " average=sum/10\n",
    "list_sum=sum\n",
    "list_avg=average\n",
    "# Keep this as your last line in this cell.\n",
    "print(list_sum, list_avg)"
   ]
  },
  {
   "cell_type": "markdown",
   "metadata": {},
   "source": [
    "# Problem 3:  Using a dictionary, count the words in this sentence. \n",
    "* Hint, you can use `.split()` to split a string into a list. "
   ]
  },
  {
   "cell_type": "code",
   "execution_count": 49,
   "metadata": {},
   "outputs": [
    {
     "name": "stdout",
     "output_type": "stream",
     "text": [
      "the   5\n",
      "oklahoma   5\n",
      "city   4\n",
      "zoo   5\n",
      "and   6\n",
      "botanical   2\n",
      "garden   2\n",
      "is   4\n",
      "a   1\n",
      "located   1\n",
      "in   2\n",
      "adventure   1\n",
      "district   1\n",
      "northeast   1\n",
      "covers   1\n",
      "119   1\n",
      "acres   1\n",
      "(48   1\n",
      "ha)   1\n",
      "home   1\n",
      "to   1\n",
      "more   1\n",
      "than   1\n",
      "1,900   1\n",
      "animals.   1\n",
      "it   1\n",
      "open   1\n",
      "every   1\n",
      "day   2\n",
      "except   1\n",
      "thanksgiving,   1\n",
      "christmas,   1\n",
      "new   1\n",
      "year's   1\n",
      "an   1\n",
      "accredited   1\n",
      "member   1\n",
      "of   3\n",
      "association   1\n",
      "aquariums   1\n",
      "american   1\n",
      "alliance   1\n",
      "museums.   1\n",
      "\n",
      "total count including repetition is: 72 \n",
      "\n"
     ]
    }
   ],
   "source": [
    "# Solve problem 3 here:\n",
    "\n",
    "my_string = '''The Oklahoma City Zoo and Botanical Garden is a zoo and botanical garden located in Oklahoma City's Adventure District in northeast Oklahoma City, Oklahoma. The zoo covers 119 acres (48 ha) and is home to more than 1,900 animals. It is open every day except Thanksgiving, Christmas, and New Year's Day. The Oklahoma City Zoo is an accredited member of the Association of Zoos and Aquariums and the American Alliance of Museums.'''\n",
    "count=0\n",
    "sentencedictionary={}\n",
    "my_string.split(\" \")\n",
    "for x in my_string.split(\" \"):\n",
    " count=count+1\n",
    " checker=x.lower()\n",
    " checker2=x.lower()\n",
    " checker3=x.lower()\n",
    " checker4=x.lower()\n",
    " replacer1=checker.replace(\"'s\",\"\")\n",
    " replacer2=checker2.replace(\"s\",\"\")\n",
    " replacer3=checker3.replace(\",\",\"\")\n",
    " replacer4=checker4.replace(\".\",\"\")\n",
    " if x.lower() in sentencedictionary:\n",
    "   sentencedictionary[x.lower()]=sentencedictionary[x.lower()]+1\n",
    " elif replacer1 in sentencedictionary:\n",
    "   sentencedictionary[replacer1]=sentencedictionary[replacer1]+1\n",
    " elif replacer2 in sentencedictionary:\n",
    "  sentencedictionary[replacer2]=sentencedictionary[replacer2]+1\n",
    " elif replacer3 in sentencedictionary:\n",
    "  sentencedictionary[replacer3]=sentencedictionary[replacer3]+1\n",
    " elif replacer4 in sentencedictionary:\n",
    "  sentencedictionary[replacer4]=sentencedictionary[replacer4]+1\n",
    " else:\n",
    "  sentencedictionary[x.lower()]=1\n",
    "for x in sentencedictionary.keys():\n",
    " print(x,\" \",sentencedictionary[x])\n",
    "print(\"\\ntotal count including repetition is:\",count,\"\\n\")\n"
   ]
  },
  {
   "cell_type": "markdown",
   "metadata": {},
   "source": [
    "# Problem 4: Write a function that input is a number and output returns the following\n",
    "* If the input is divisible by three, return 'fizz'\n",
    "* If the input is divisible by five, return 'buzz'\n",
    "* If the input is divisible by three and by five, return 'fizzbuzz'\n",
    "* If the input is not divisible by three or five, return None."
   ]
  },
  {
   "cell_type": "code",
   "execution_count": 52,
   "metadata": {},
   "outputs": [
    {
     "name": "stdout",
     "output_type": "stream",
     "text": [
      "\n",
      "fizz\n",
      "\n",
      "fizz\n",
      "\n",
      "fizzbuzz\n",
      "\n",
      "buzz\n"
     ]
    }
   ],
   "source": [
    "import math\n",
    "def isdivide(number):\n",
    " if number%3==0 and number%5!=0:\n",
    "  print('\\nfizz')\n",
    " elif number%5==0 and number%3!=0:\n",
    "  print('\\nbuzz')\n",
    " elif number%5==0 and number%3==0:\n",
    "  print('\\nfizzbuzz')\n",
    " else:\n",
    "  print('\\nNothing')\n",
    "isdivide(5556)\n",
    "isdivide(3)\n",
    "isdivide(15)\n",
    "isdivide(25)"
   ]
  },
  {
   "cell_type": "markdown",
   "metadata": {},
   "source": [
    "# Problem 5: \n",
    "Write a function that takes a list and returns a new list that contains all the elements of the first list minus all the duplicates.\n",
    "\n",
    "Example input and expected output\n",
    "\n",
    "input = [\"Michele\", \"Robin\", \"Sara\", \"Michele\"]\n",
    "\n",
    "expected output = ['Michele', 'Robin', 'Sara']\n"
   ]
  },
  {
   "cell_type": "code",
   "execution_count": 64,
   "metadata": {},
   "outputs": [
    {
     "name": "stdout",
     "output_type": "stream",
     "text": [
      "['Michele', 'Robin', 'Sara']\n"
     ]
    }
   ],
   "source": [
    "# Solve problem 5 here:\n",
    "def noduplicates(*namer):\n",
    " nodupdict={}\n",
    " counter=0\n",
    " cookie=namer[0]\n",
    " for x in cookie:\n",
    "  if x in nodupdict:\n",
    "   nodupdict[x]=nodupdict[x]+1\n",
    "  else:\n",
    "   counter=counter+1\n",
    "   nodupdict[x]=1\n",
    " stringarray= [\"\"] * counter\n",
    " counter2=0\n",
    " for b in nodupdict.keys():\n",
    "  stringarray[counter2]=b\n",
    "  counter2=counter2+1\n",
    " return stringarray\n",
    "names = [\"Michele\", \"Robin\", \"Sara\", \"Michele\"]\n",
    "newarray=noduplicates(names).copy()\n",
    "print(newarray)"
   ]
  },
  {
   "cell_type": "markdown",
   "metadata": {},
   "source": [
    "# Problem 6: \n",
    "Write a function that takes a list of numbers (for example, a = [5, 10, 15, 20, 25]) and returns a new list of only the first and last elements of the given list.\n",
    "\n",
    "Example input and expected output:\n",
    "\n",
    "input = [5, 10, 15, 20, 25]\n",
    "\n",
    "expected output = [5, 25]"
   ]
  },
  {
   "cell_type": "code",
   "execution_count": 62,
   "metadata": {},
   "outputs": [
    {
     "name": "stdout",
     "output_type": "stream",
     "text": [
      "[5, 25]\n"
     ]
    }
   ],
   "source": [
    "# Solve problem 6 here:\n",
    "def findlastandfirst(*pizza):\n",
    " pizza1=pizza[0]\n",
    " new_list=[0,0]\n",
    " counter=0\n",
    " for x in input_list:\n",
    "  if counter==0:\n",
    "   new_list[0]=input_list[counter]\n",
    "  elif counter==len(pizza1)-1:\n",
    "   new_list[1]=input_list[counter]\n",
    "  counter=counter+1\n",
    " return new_list\n",
    "input_list = [5, 10, 99, 20, 25]\n",
    "print(findlastandfirst(input_list))\n"
   ]
  },
  {
   "cell_type": "markdown",
   "metadata": {},
   "source": [
    "# Problem 7:  Implement a function that takes as input three variables, and returns the largest of the three. \n",
    "Do this without using the Python max() function! \n",
    "_*Note all three input numbers will always be different, no need to account for a tie._\n",
    "\n",
    "Example input and expected output:\n",
    "\n",
    "input = your_function(1, 5, 10)\n",
    "\n",
    "expected output:  10"
   ]
  },
  {
   "cell_type": "code",
   "execution_count": 79,
   "metadata": {},
   "outputs": [],
   "source": [
    "# Solve Problem 7 here:\n",
    "\n",
    "def your_function(a, b, c):\n",
    "    counter=0\n",
    "    newarray=[a,b,c]\n",
    "    for x in newarray:\n",
    "     if x>counter:\n",
    "      counter=x\n",
    "    return counter"
   ]
  },
  {
   "cell_type": "code",
   "execution_count": 78,
   "metadata": {},
   "outputs": [
    {
     "name": "stdout",
     "output_type": "stream",
     "text": [
      "10\n"
     ]
    }
   ],
   "source": [
    "# Test to see if your function works properly.\n",
    "your_function(1, 5, 10)\n",
    "print(your_function(1,5,10))"
   ]
  }
 ],
 "metadata": {
  "kernelspec": {
   "display_name": "Python 3",
   "language": "python",
   "name": "python3"
  },
  "language_info": {
   "codemirror_mode": {
    "name": "ipython",
    "version": 3
   },
   "file_extension": ".py",
   "mimetype": "text/x-python",
   "name": "python",
   "nbconvert_exporter": "python",
   "pygments_lexer": "ipython3",
   "version": "3.8.8"
  }
 },
 "nbformat": 4,
 "nbformat_minor": 4
}
